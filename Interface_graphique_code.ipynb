{
  "cells": [
    {
      "cell_type": "markdown",
      "source": [
        "**Importation** **des** **bibliothèques**"
      ],
      "metadata": {
        "id": "lcO2CfrBx_cz"
      }
    },
    {
      "cell_type": "code",
      "execution_count": 4,
      "metadata": {
        "id": "O5jcPTPOAoa4"
      },
      "outputs": [],
      "source": [
        "import gradio as gr\n",
        "import numpy as np\n",
        "import cv2\n",
        "from tensorflow import keras\n",
        "import tensorflow as tf\n",
        "from tensorflow.keras.optimizers import Adam\n",
        "\n",
        "model = tf.keras.models.load_model('traffic_sign_model.h5', compile=False)"
      ]
    },
    {
      "cell_type": "markdown",
      "metadata": {
        "id": "n1hwux3PAoa9"
      },
      "source": [
        "## Classes du dataset"
      ]
    },
    {
      "cell_type": "code",
      "execution_count": 5,
      "metadata": {
        "id": "mt6DpC_5Aoa9"
      },
      "outputs": [],
      "source": [
        "def getCalssName(classNo):\n",
        "    if classNo == 0:\n",
        "        return 'Speed Limit 20 km/h'\n",
        "    elif classNo == 1:\n",
        "        return 'Speed Limit 30 km/h'\n",
        "    elif classNo == 2:\n",
        "        return 'Speed Limit 50 km/h'\n",
        "    elif classNo == 3:\n",
        "        return 'Speed Limit 60 km/h'\n",
        "    elif classNo == 4:\n",
        "        return 'Speed Limit 70 km/h'\n",
        "    elif classNo == 5:\n",
        "        return 'Speed Limit 80 km/h'\n",
        "    elif classNo == 6:\n",
        "        return 'End of Speed Limit 80 km/h'\n",
        "    elif classNo == 7:\n",
        "        return 'Speed Limit 100 km/h'\n",
        "    elif classNo == 8:\n",
        "        return 'Speed Limit 120 km/h'\n",
        "    elif classNo == 9:\n",
        "        return 'No passing'\n",
        "    elif classNo == 10:\n",
        "        return 'No passing for vechiles over 3.5 metric tons'\n",
        "    elif classNo == 11:\n",
        "        return 'Right-of-way at the next intersection'\n",
        "    elif classNo == 12:\n",
        "        return 'Priority road'\n",
        "    elif classNo == 13:\n",
        "        return 'Yield'\n",
        "    elif classNo == 14:\n",
        "        return 'Stop'\n",
        "    elif classNo == 15:\n",
        "        return 'No vechiles'\n",
        "    elif classNo == 16:\n",
        "        return 'Vechiles over 3.5 metric tons prohibited'\n",
        "    elif classNo == 17:\n",
        "        return 'No entry'\n",
        "    elif classNo == 18:\n",
        "        return 'General caution'\n",
        "    elif classNo == 19:\n",
        "        return 'Dangerous curve to the left'\n",
        "    elif classNo == 20:\n",
        "        return 'Dangerous curve to the right'\n",
        "    elif classNo == 21:\n",
        "        return 'Double curve'\n",
        "    elif classNo == 22:\n",
        "        return 'Bumpy road'\n",
        "    elif classNo == 23:\n",
        "        return 'Slippery road'\n",
        "    elif classNo == 24:\n",
        "        return 'Road narrows on the right'\n",
        "    elif classNo == 25:\n",
        "        return 'Road work'\n",
        "    elif classNo == 26:\n",
        "        return 'Traffic signals'\n",
        "    elif classNo == 27:\n",
        "        return 'Pedestrians'\n",
        "    elif classNo == 28:\n",
        "        return 'Children crossing'\n",
        "    elif classNo == 29:\n",
        "        return 'Bicycles crossing'\n",
        "    elif classNo == 30:\n",
        "        return 'Beware of ice/snow'\n",
        "    elif classNo == 31:\n",
        "        return 'Wild animals crossing'\n",
        "    elif classNo == 32:\n",
        "        return 'End of all speed and passing limits'\n",
        "    elif classNo == 33:\n",
        "        return 'Turn right ahead'\n",
        "    elif classNo == 34:\n",
        "        return 'Turn left ahead'\n",
        "    elif classNo == 35:\n",
        "        return 'Ahead only'\n",
        "    elif classNo == 36:\n",
        "        return 'Go straight or right'\n",
        "    elif classNo == 37:\n",
        "        return 'Go straight or left'\n",
        "    elif classNo == 38:\n",
        "        return 'Keep right'\n",
        "    elif classNo == 39:\n",
        "        return 'Keep left'\n",
        "    elif classNo == 40:\n",
        "        return 'Roundabout mandatory'\n",
        "    elif classNo == 41:\n",
        "        return 'End of no passing'\n",
        "    elif classNo == 42:\n",
        "        return 'End of no passing by vechiles over 3.5 metric tons'\n",
        "classNames = []\n",
        "for i in range(43):\n",
        "    classNames.append(getCalssName(i))\n"
      ]
    },
    {
      "cell_type": "code",
      "execution_count": 6,
      "metadata": {
        "colab": {
          "base_uri": "https://localhost:8080/"
        },
        "id": "Wf8eqJ1sAoa-",
        "outputId": "da13bc0c-85d6-4774-95a3-66b336b7b2f8"
      },
      "outputs": [
        {
          "output_type": "execute_result",
          "data": {
            "text/plain": [
              "['Speed Limit 20 km/h',\n",
              " 'Speed Limit 30 km/h',\n",
              " 'Speed Limit 50 km/h',\n",
              " 'Speed Limit 60 km/h',\n",
              " 'Speed Limit 70 km/h',\n",
              " 'Speed Limit 80 km/h',\n",
              " 'End of Speed Limit 80 km/h',\n",
              " 'Speed Limit 100 km/h',\n",
              " 'Speed Limit 120 km/h',\n",
              " 'No passing',\n",
              " 'No passing for vechiles over 3.5 metric tons',\n",
              " 'Right-of-way at the next intersection',\n",
              " 'Priority road',\n",
              " 'Yield',\n",
              " 'Stop',\n",
              " 'No vechiles',\n",
              " 'Vechiles over 3.5 metric tons prohibited',\n",
              " 'No entry',\n",
              " 'General caution',\n",
              " 'Dangerous curve to the left',\n",
              " 'Dangerous curve to the right',\n",
              " 'Double curve',\n",
              " 'Bumpy road',\n",
              " 'Slippery road',\n",
              " 'Road narrows on the right',\n",
              " 'Road work',\n",
              " 'Traffic signals',\n",
              " 'Pedestrians',\n",
              " 'Children crossing',\n",
              " 'Bicycles crossing',\n",
              " 'Beware of ice/snow',\n",
              " 'Wild animals crossing',\n",
              " 'End of all speed and passing limits',\n",
              " 'Turn right ahead',\n",
              " 'Turn left ahead',\n",
              " 'Ahead only',\n",
              " 'Go straight or right',\n",
              " 'Go straight or left',\n",
              " 'Keep right',\n",
              " 'Keep left',\n",
              " 'Roundabout mandatory',\n",
              " 'End of no passing',\n",
              " 'End of no passing by vechiles over 3.5 metric tons']"
            ]
          },
          "metadata": {},
          "execution_count": 6
        }
      ],
      "source": [
        "classNames"
      ]
    },
    {
      "cell_type": "code",
      "execution_count": 9,
      "metadata": {
        "colab": {
          "base_uri": "https://localhost:8080/",
          "height": 775
        },
        "id": "uwe9m-kNAoa_",
        "outputId": "beb4421e-bb25-4619-c628-acfc2331b27c"
      },
      "outputs": [
        {
          "output_type": "stream",
          "name": "stderr",
          "text": [
            "<ipython-input-9-6352b6e5ba3a>:26: GradioDeprecationWarning: Usage of gradio.inputs is deprecated, and will not be supported in the future, please import your component from gradio.components\n",
            "  inputs = gr.inputs.Image(shape=(None, None))\n",
            "<ipython-input-9-6352b6e5ba3a>:26: GradioDeprecationWarning: `optional` parameter is deprecated, and it has no effect\n",
            "  inputs = gr.inputs.Image(shape=(None, None))\n",
            "<ipython-input-9-6352b6e5ba3a>:27: GradioDeprecationWarning: Usage of gradio.outputs is deprecated, and will not be supported in the future, please import your components from gradio.components\n",
            "  outputs = gr.outputs.Label(num_top_classes=1)\n",
            "<ipython-input-9-6352b6e5ba3a>:27: GradioUnusedKwargWarning: You have unused kwarg parameters in Label, please remove them: {'type': 'auto'}\n",
            "  outputs = gr.outputs.Label(num_top_classes=1)\n"
          ]
        },
        {
          "output_type": "stream",
          "name": "stdout",
          "text": [
            "Colab notebook detected. To show errors in colab notebook, set debug=True in launch()\n",
            "Note: opening Chrome Inspector may crash demo inside Colab notebooks.\n",
            "\n",
            "To create a public link, set `share=True` in `launch()`.\n"
          ]
        },
        {
          "output_type": "display_data",
          "data": {
            "text/plain": [
              "<IPython.core.display.Javascript object>"
            ],
            "application/javascript": [
              "(async (port, path, width, height, cache, element) => {\n",
              "                        if (!google.colab.kernel.accessAllowed && !cache) {\n",
              "                            return;\n",
              "                        }\n",
              "                        element.appendChild(document.createTextNode(''));\n",
              "                        const url = await google.colab.kernel.proxyPort(port, {cache});\n",
              "\n",
              "                        const external_link = document.createElement('div');\n",
              "                        external_link.innerHTML = `\n",
              "                            <div style=\"font-family: monospace; margin-bottom: 0.5rem\">\n",
              "                                Running on <a href=${new URL(path, url).toString()} target=\"_blank\">\n",
              "                                    https://localhost:${port}${path}\n",
              "                                </a>\n",
              "                            </div>\n",
              "                        `;\n",
              "                        element.appendChild(external_link);\n",
              "\n",
              "                        const iframe = document.createElement('iframe');\n",
              "                        iframe.src = new URL(path, url).toString();\n",
              "                        iframe.height = height;\n",
              "                        iframe.allow = \"autoplay; camera; microphone; clipboard-read; clipboard-write;\"\n",
              "                        iframe.width = width;\n",
              "                        iframe.style.border = 0;\n",
              "                        element.appendChild(iframe);\n",
              "                    })(7861, \"/\", \"100%\", 500, false, window.element)"
            ]
          },
          "metadata": {}
        },
        {
          "output_type": "execute_result",
          "data": {
            "text/plain": []
          },
          "metadata": {},
          "execution_count": 9
        }
      ],
      "source": [
        "import gradio as gr\n",
        "import numpy as np\n",
        "from tensorflow import keras\n",
        "\n",
        "model = keras.models.load_model('traffic_sign_model.h5', compile=False)\n",
        "class_names = classNames\n",
        "\n",
        "\n",
        "def predict_image(img):\n",
        "    # Preprocess the input image\n",
        "    img = cv2.cvtColor(img, cv2.COLOR_BGR2GRAY)\n",
        "    img = cv2.resize(img, (32, 32))\n",
        "    img = np.expand_dims(img, axis=-1)\n",
        "    img = np.expand_dims(img, axis=0)\n",
        "    img = img.astype('float32') / 255.\n",
        "\n",
        "    # Make predictions using the model\n",
        "    predictions = model.predict(img)\n",
        "    class_index = np.argmax(predictions[0])\n",
        "    class_label = class_names[class_index]\n",
        "\n",
        "    # Return the predicted class label\n",
        "    return class_label\n",
        "\n",
        "\n",
        "inputs = gr.inputs.Image(shape=(None, None))\n",
        "outputs = gr.outputs.Label(num_top_classes=1)\n",
        "\n",
        "title = \"Traffic Sign Classifier\"\n",
        "description = \"A simple web app to classify traffic signs.\"\n",
        "gr.Interface(fn=predict_image, inputs=inputs, outputs=outputs, title=title, description=description).launch()\n"
      ]
    }
  ],
  "metadata": {
    "kernelspec": {
      "display_name": "Python 3",
      "language": "python",
      "name": "python3"
    },
    "language_info": {
      "codemirror_mode": {
        "name": "ipython",
        "version": 3
      },
      "file_extension": ".py",
      "mimetype": "text/x-python",
      "name": "python",
      "nbconvert_exporter": "python",
      "pygments_lexer": "ipython3",
      "version": "3.10.4"
    },
    "orig_nbformat": 4,
    "colab": {
      "provenance": []
    }
  },
  "nbformat": 4,
  "nbformat_minor": 0
}